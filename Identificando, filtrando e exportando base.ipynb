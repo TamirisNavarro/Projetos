{
 "cells": [
  {
   "cell_type": "code",
   "execution_count": null,
   "id": "9f63df68",
   "metadata": {},
   "outputs": [],
   "source": [
    "#Filtrando campos nulos e exportando a base filtrada.\n",
    "\n",
    "\n",
    "import numpy as np\n",
    "import pandas as pd\n",
    "import codecs\n",
    "import unicodedata\n",
    "import calendar\n",
    "import locale\n",
    "import datetime\n",
    "\n",
    "# Setamos o local aonde está sendo executado o script, para extrair as datas em português\n",
    "try:\n",
    "    locale.setlocale(locale.LC_ALL, 'pt_BR')\n",
    "    calendar.LocaleHTMLCalendar(calendar.SUNDAY, 'pt_BR')\n",
    "except:\n",
    "    locale.setlocale(locale.LC_ALL, 'Portuguese_Brazil')\n",
    "    calendar.LocaleHTMLCalendar(calendar.SUNDAY, 'Portuguese_Brazil')\n",
    "    \n",
    "# Salvar na variável \"agora\" a data de execução e na variável mes_atual o mês de execução\n",
    "agora = date.today()\n",
    "mes_atual=agora.month\n",
    "\n",
    "# Convertemos o número do mês no nome do mês\n",
    "nome_mes = calendar.month_name[mes_atual]\n",
    "\n",
    "# Obtendo os dados.\n",
    "df_1 = pd.read_excel('x:/xx/base.xlsx', sheet_name = 'Plan1')\n",
    "\n",
    "# Verificar as informações dos dados\n",
    "df_1.info()\n",
    "\n",
    "# Criando uma lista de variáveis que irão assumir os valores de acordo com cada condição.\n",
    "conditions = [\n",
    "    (df_2['colunaC'].isnull() == True),\n",
    "    (df_2['colunaC'].isnull() == False)\n",
    "     ]\n",
    "valor = ['Sem_Informação', 'OK']\n",
    "\n",
    "# Criando uma nova coluna a partir do np.select que vai atribuir a lista das variáveis às condições. \n",
    "df_1['Nova_Coluna'] = np.select(conditions, valor)\n",
    "\n",
    "# Filtrando apenas o que não tem informação\n",
    "df_2 = df_1[df_1.Nova_Coluna.isin([\"Sem_Informação\"])]\n",
    "\n",
    "# Imprimir na tela caso a base não tenha campos em nulo, ou seja, quando fitrou acima por \"Sem Informação\", não há resultados. \n",
    "# Caso contrário, salve a base em excel no endereço informado.\n",
    "\n",
    "If df_2.empty:\n",
    "    print('Não há campos nulos.')\n",
    "Else:\n",
    "    df_2.to_excel('x:\\\\xxxx\\\\xxx\\\\base_filtrada.xlsx', encoding = 'ytf-8',index = False)"
   ]
  }
 ],
 "metadata": {
  "kernelspec": {
   "display_name": "Python 3 (ipykernel)",
   "language": "python",
   "name": "python3"
  },
  "language_info": {
   "codemirror_mode": {
    "name": "ipython",
    "version": 3
   },
   "file_extension": ".py",
   "mimetype": "text/x-python",
   "name": "python",
   "nbconvert_exporter": "python",
   "pygments_lexer": "ipython3",
   "version": "3.9.7"
  }
 },
 "nbformat": 4,
 "nbformat_minor": 5
}
